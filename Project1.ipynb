{
 "cells": [
  {
   "cell_type": "markdown",
   "metadata": {},
   "source": [
    "# Step 1: Look over my data set\n",
    "✅"
   ]
  },
  {
   "cell_type": "markdown",
   "metadata": {},
   "source": [
    "# Step 2: Scoping your project\n",
    "\n",
    "Start practicing this process:\n",
    "1) Goals\n",
    "2) Data \n",
    "3) Analysis\n",
    "\n",
    "My 3 Goals that I have chose to investigate are:\n",
    "1) Find the average cost and range for smokers compared to non-smokers\n",
    "2) Find the average cost per each number of children (0->5)\n",
    "3) Find the average bmi per each decade eg. (10-19, 20-29..., 50+)"
   ]
  },
  {
   "cell_type": "markdown",
   "metadata": {},
   "source": [
    "# Step 3: Import the csv file"
   ]
  },
  {
   "cell_type": "code",
   "execution_count": 73,
   "metadata": {},
   "outputs": [
    {
     "name": "stdout",
     "output_type": "stream",
     "text": [
      "/Users/bencunningham/Documents/GitHub/CodeAcademy_1./Projects/Project 1 \n",
      "\n"
     ]
    }
   ],
   "source": [
    "import csv\n",
    "import os\n",
    "\n",
    "file_path = os.getcwd()\n",
    "print(file_path, '\\n')\n",
    "path2 = \"/Users/bencunningham/Documents/GitHub/CodeAcademy_1./Projects/Project 1/insurance.csv\" "
   ]
  },
  {
   "cell_type": "markdown",
   "metadata": {},
   "source": [
    "# Step 4: Save your dataset via python variables"
   ]
  },
  {
   "cell_type": "code",
   "execution_count": 74,
   "metadata": {},
   "outputs": [],
   "source": [
    "age = []\n",
    "sex = []\n",
    "bmi = []\n",
    "children = []\n",
    "smoker = []\n",
    "region = []\n",
    "charges = []\n",
    "\n",
    "with open(path2) as file:\n",
    "    csv_reader = csv.DictReader(file)\n",
    "    for row in csv_reader:\n",
    "        age.append(row[\"age\"]) \n",
    "        sex.append(row[\"sex\"]) \n",
    "        bmi.append(row[\"bmi\"]) \n",
    "        children.append(row[\"children\"]) \n",
    "        region.append(row[\"region\"]) \n",
    "        smoker.append(row[\"smoker\"])\n",
    "        charges.append(row[\"charges\"]) "
   ]
  },
  {
   "cell_type": "markdown",
   "metadata": {},
   "source": [
    "# Step 5: Build out analysis functions or class methods"
   ]
  },
  {
   "cell_type": "code",
   "execution_count": 75,
   "metadata": {},
   "outputs": [
    {
     "name": "stdout",
     "output_type": "stream",
     "text": [
      "The total number of people is 1338 \n",
      "\n",
      "The average age is 39.21\n",
      "The average bmi is 30.66\n",
      "The average children is 1.09\n",
      "The average charges is 13270.42 \n",
      "\n",
      "The range of ages is: (5, 64.0)\n",
      "The range of bmi is: (5, 53.13)\n",
      "The range of children is: (0.0, 5.0)\n",
      "The range of charges is: (5, 63770.43) \n",
      "\n"
     ]
    }
   ],
   "source": [
    "# Get basic info to begin with:\n",
    "def calc_average(x):\n",
    "    total = 0\n",
    "    for number in x:\n",
    "        new_number = float(number)\n",
    "        total += new_number\n",
    "    length = len(x)\n",
    "    average = total / length \n",
    "    average_rounded = round(average, 2)\n",
    "    return average_rounded\n",
    "\n",
    "def calc_range(x):\n",
    "    min_val = 5\n",
    "    max_val = 0\n",
    "    for val in x:\n",
    "        new_x = float(val)\n",
    "        if new_x < min_val:\n",
    "            min_val = new_x\n",
    "        elif new_x > max_val:\n",
    "            max_val = new_x\n",
    "        else:\n",
    "            pass\n",
    "\n",
    "        final_min = round(min_val,2)\n",
    "        final_max = round(max_val, 2)\n",
    "\n",
    "    return final_min, final_max \n",
    "\n",
    "len_of_data = len(age)\n",
    "\n",
    "age_avg = calc_average(age)\n",
    "bmi_avg = calc_average(bmi)\n",
    "children_avg = calc_average(children)\n",
    "charges_avg = calc_average(charges)\n",
    "\n",
    "age_range = calc_range(age)\n",
    "bmi_range = calc_range(bmi)\n",
    "children_range = calc_range(children)\n",
    "charges_range = calc_range(charges)\n",
    "\n",
    "\n",
    "\n",
    "# Printed key info:\n",
    "print(f\"The total number of people is {len_of_data}\", '\\n')\n",
    "print(f\"The average age is {age_avg}\")\n",
    "print(f\"The average bmi is {bmi_avg}\")\n",
    "print(f\"The average children is {children_avg}\")\n",
    "print(f\"The average charges is {charges_avg}\", '\\n')\n",
    "\n",
    "print(f\"The range of ages is: {age_range}\")\n",
    "print(f\"The range of bmi is: {bmi_range}\")\n",
    "print(f\"The range of children is: {children_range}\")\n",
    "print(f\"The range of charges is: {charges_range}\", '\\n')"
   ]
  },
  {
   "cell_type": "code",
   "execution_count": 76,
   "metadata": {},
   "outputs": [
    {
     "name": "stdout",
     "output_type": "stream",
     "text": [
      "('The average charge for a smoker is $32050.23', 'The average charge for a nonsmoker is $8434.27')\n",
      "The cost range for a smoker is (12829.46, 63770.43), and the cost range for a non-smoker is (1121.87, 36910.61)\n"
     ]
    }
   ],
   "source": [
    "# Goal 1: Average cost and range for smokers/ non-smokers\n",
    "zipped_smoker_charges = list(zip(smoker, charges)) \n",
    "\n",
    "def new_average(zippy):\n",
    "    smoker_charge = 0 \n",
    "    nonsmoker_charge = 0\n",
    "    smoker_count = 0 \n",
    "    nonsmoker_count = 0\n",
    "\n",
    "    for flag, value in zipped_smoker_charges:\n",
    "        if flag == \"yes\":\n",
    "            smoker_charge += float(value)\n",
    "            smoker_count += 1\n",
    "        elif flag == \"no\":\n",
    "            nonsmoker_charge += float(value)\n",
    "            nonsmoker_count += 1\n",
    "\n",
    "    average_smoker_charge = round(smoker_charge / smoker_count, 2) \n",
    "    average_nonsmoker_charge = round(nonsmoker_charge / nonsmoker_count, 2)\n",
    "    \n",
    "    smoker_info = f\"The average charge for a smoker is ${average_smoker_charge}\"\n",
    "    nonsmoker_info = f\"The average charge for a nonsmoker is ${average_nonsmoker_charge}\"\n",
    "    return smoker_info, nonsmoker_info \n",
    "    \n",
    "def new_range(zippy):\n",
    "    smoker_min = float('inf')\n",
    "    smoker_max = 0\n",
    "    nonsmoker_min = float('inf')\n",
    "    nonsmoker_max = 0\n",
    "\n",
    "    for flag, value in zipped_smoker_charges:\n",
    "        value = float(value)\n",
    "        if flag == \"yes\" and float(value) > smoker_max:\n",
    "            smoker_max = round(value, 2)\n",
    "        elif flag == \"yes\" and float(value) < smoker_min:\n",
    "            smoker_min = round(value, 2)\n",
    "        elif flag == \"no\" and float(value) > nonsmoker_max:\n",
    "            nonsmoker_max = round(value, 2)\n",
    "        elif flag == \"no\" and float(value) < nonsmoker_min:\n",
    "            nonsmoker_min = round(value,2)\n",
    "\n",
    "    \n",
    "    smoker_range = (smoker_min, smoker_max)\n",
    "    nonsmoker_range = (nonsmoker_min, nonsmoker_max)\n",
    "\n",
    "    return f\"The cost range for a smoker is {smoker_range}, and the cost range for a non-smoker is {nonsmoker_range}\"\n",
    "\n",
    "\n",
    "print(new_average(zipped_smoker_charges))\n",
    "print(new_range(zipped_smoker_charges))\n"
   ]
  },
  {
   "cell_type": "code",
   "execution_count": 77,
   "metadata": {},
   "outputs": [
    {
     "name": "stdout",
     "output_type": "stream",
     "text": [
      "The average cost for someone with 0 children is $12731.17\n",
      "The average cost for someone with 1 child is $15073.56\n",
      "The average cost for someone with 2 children is $15355.32\n",
      "The average cost for someone with 3 children is $13850.66\n",
      "The average cost for someone with 4 children is $8786.04\n",
      "The average cost for someone with 5 children is $12365.98\n"
     ]
    }
   ],
   "source": [
    "# Goal 2: The average cost per no. of children\n",
    "zip_children_charges = list(zip(children, charges))\n",
    "\n",
    "def newer_average(zippy):\n",
    "    child0_charge = 0\n",
    "    child1_charge = 0 \n",
    "    child2_charge = 0 \n",
    "    child3_charge = 0\n",
    "    child4_charge = 0\n",
    "    child5_charge = 0\n",
    "    child0_count = 0\n",
    "    child1_count = 0 \n",
    "    child2_count = 0\n",
    "    child3_count = 0\n",
    "    child4_count = 0\n",
    "    child5_count = 0\n",
    "\n",
    "    for flag, value in zippy:\n",
    "\n",
    "        if flag == \"0\":\n",
    "            child0_count += 1 \n",
    "            child0_charge += float(value)\n",
    "        elif flag == \"1\":\n",
    "            child1_count += 1 \n",
    "            child1_charge += float(value)\n",
    "        elif flag == \"2\":\n",
    "            child2_count += 1\n",
    "            child2_charge += float(value)\n",
    "        elif flag == \"3\":\n",
    "            child3_count += 1\n",
    "            child3_charge += float(value)\n",
    "        elif flag == \"4\":\n",
    "            child4_count += 1\n",
    "            child4_charge += float(value)\n",
    "        elif flag == \"5\":\n",
    "            child5_count += 1\n",
    "            child5_charge += float(value)\n",
    "\n",
    "    child0_avg = round(child0_charge / child0_count, 2) if child5_count != 0 else 0.0\n",
    "    child1_avg = round(child1_charge / child1_count, 2) if child1_count != 0 else 0.0\n",
    "    child2_avg = round(child2_charge / child2_count, 2) if child2_count != 0 else 0.0\n",
    "    child3_avg = round(child3_charge / child3_count, 2) if child3_count != 0 else 0.0\n",
    "    child4_avg = round(child4_charge / child4_count, 2) if child4_count != 0 else 0.0\n",
    "    child5_avg = round(child5_charge / child5_count, 2) if child5_count != 0 else 0.0\n",
    "\n",
    "    return child1_avg, child2_avg, child3_avg, child4_avg, child5_avg, child0_avg\n",
    "\n",
    "child_cost = newer_average(zip_children_charges)\n",
    "\n",
    "child_num = 0\n",
    "for cost in child_cost:\n",
    "    if child_num == 1:\n",
    "        print(f\"The average cost for someone with 1 child is ${cost}\")\n",
    "    else:\n",
    "        print(f\"The average cost for someone with {child_num} children is ${cost}\")\n",
    "    child_num += 1"
   ]
  },
  {
   "cell_type": "code",
   "execution_count": 78,
   "metadata": {},
   "outputs": [
    {
     "name": "stdout",
     "output_type": "stream",
     "text": [
      "The average bmi for someone in the age range 10-19 years: is 29.97\n",
      "The average bmi for someone in the age range 20-29 years: is 29.79\n",
      "The average bmi for someone in the age range 30-39 years: is 30.44\n",
      "The average bmi for someone in the age range 40-49 years: is 30.71\n",
      "The average bmi for someone in the age range 50+ years is 31.66\n"
     ]
    }
   ],
   "source": [
    "# Goal 3: Average bmi per age decade\n",
    "zip_age_bmi = list(zip(age, bmi))\n",
    "\n",
    "# print(max(age)) = 64 Therefore I'll do a 50+\n",
    "# print(min(age)) = 18 \n",
    "\n",
    "def new_range(zippy):\n",
    "    age_10_19_count = 0\n",
    "    age_20_29_count = 0\n",
    "    age_30_39_count = 0\n",
    "    age_40_49_count = 0\n",
    "    age_50_plus_count = 0\n",
    "\n",
    "    age_10_19_total = 0\n",
    "    age_20_29_total = 0\n",
    "    age_30_39_total = 0\n",
    "    age_40_49_total = 0\n",
    "    age_50_plus_total = 0\n",
    "\n",
    "    for flag, value in zippy:\n",
    "        flag = float(flag)\n",
    "        if 10 <= flag <= 19:\n",
    "            age_10_19_count += 1\n",
    "            age_10_19_total += float(value)\n",
    "        elif 20 <= flag <= 29:\n",
    "            age_20_29_count += 1\n",
    "            age_20_29_total += float(value)\n",
    "        elif 30 <= flag <= 39:\n",
    "            age_30_39_count += 1\n",
    "            age_30_39_total += float(value)\n",
    "        elif 40 <= flag <= 49:\n",
    "            age_40_49_count += 1\n",
    "            age_40_49_total += float(value)\n",
    "        elif 50 <= flag:\n",
    "            age_50_plus_count += 1\n",
    "            age_50_plus_total += float(value)\n",
    "\n",
    "    age_10_19_average = round(age_10_19_total / age_10_19_count, 2)\n",
    "    age_20_29_average = round(age_20_29_total / age_20_29_count, 2)\n",
    "    age_30_39_average = round(age_30_39_total / age_30_39_count, 2)\n",
    "    age_40_49_average = round(age_40_49_total / age_40_49_count, 2)\n",
    "    age_50_plus_average = round(age_50_plus_total / age_50_plus_count, 2)\n",
    "\n",
    "    return age_10_19_average, age_20_29_average, age_30_39_average, age_40_49_average, age_50_plus_average\n",
    "\n",
    "age_bmi = new_range(zip_age_bmi)\n",
    "age_1 = 10\n",
    "age_2 = 19\n",
    "for bmi in age_bmi:\n",
    "    if age_1 == 50:\n",
    "        print(f\"The average bmi for someone in the age range 50+ years is {bmi}\")\n",
    "    else:\n",
    "        print(f\"The average bmi for someone in the age range {age_1}-{age_2} years: is {bmi}\")\n",
    "    age_1 += 10\n",
    "    age_2 += 10\n"
   ]
  }
 ],
 "metadata": {
  "kernelspec": {
   "display_name": "Python 3",
   "language": "python",
   "name": "python3"
  },
  "language_info": {
   "codemirror_mode": {
    "name": "ipython",
    "version": 3
   },
   "file_extension": ".py",
   "mimetype": "text/x-python",
   "name": "python",
   "nbconvert_exporter": "python",
   "pygments_lexer": "ipython3",
   "version": "3.9.6"
  }
 },
 "nbformat": 4,
 "nbformat_minor": 2
}
